{
 "cells": [
  {
   "cell_type": "code",
   "execution_count": 58,
   "id": "logical-lounge",
   "metadata": {},
   "outputs": [
    {
     "data": {
      "text/plain": [
       "['skcm_dfci_2015_clinical_data.tsv']"
      ]
     },
     "execution_count": 58,
     "metadata": {},
     "output_type": "execute_result"
    }
   ],
   "source": [
    "%matplotlib inline\n",
    "import matplotlib\n",
    "import seaborn as sns\n",
    "import pandas as pd"
   ]
  },
  {
   "cell_type": "code",
   "execution_count": 10,
   "id": "sacred-pottery",
   "metadata": {},
   "outputs": [],
   "source": [
    "mel_df = pd.read_csv('/Users/jlindsay/Code/python_intro/data/skcm_dfci_2015_clinical_data.tsv', sep='\\t', header=0)"
   ]
  },
  {
   "cell_type": "code",
   "execution_count": 11,
   "id": "bridal-guess",
   "metadata": {},
   "outputs": [
    {
     "data": {
      "text/html": [
       "<div>\n",
       "<style scoped>\n",
       "    .dataframe tbody tr th:only-of-type {\n",
       "        vertical-align: middle;\n",
       "    }\n",
       "\n",
       "    .dataframe tbody tr th {\n",
       "        vertical-align: top;\n",
       "    }\n",
       "\n",
       "    .dataframe thead th {\n",
       "        text-align: right;\n",
       "    }\n",
       "</style>\n",
       "<table border=\"1\" class=\"dataframe\">\n",
       "  <thead>\n",
       "    <tr style=\"text-align: right;\">\n",
       "      <th></th>\n",
       "      <th>Study ID</th>\n",
       "      <th>Patient ID</th>\n",
       "      <th>Sample ID</th>\n",
       "      <th>Age at Diagnosis</th>\n",
       "      <th>Cancer Type</th>\n",
       "      <th>Cancer Type Detailed</th>\n",
       "      <th>CBSET B cells memory</th>\n",
       "      <th>CBSET B cells naive</th>\n",
       "      <th>CBSET Dendritic cells activated</th>\n",
       "      <th>CBSET Dendritic cells resting</th>\n",
       "      <th>...</th>\n",
       "      <th>Number of Samples Per Patient</th>\n",
       "      <th>Serum Lactate Dehydrogenase</th>\n",
       "      <th>Sex</th>\n",
       "      <th>Somatic Status</th>\n",
       "      <th>ESTIMATE Stromal Score</th>\n",
       "      <th>TMB (nonsynonymous)</th>\n",
       "      <th>Treatment</th>\n",
       "      <th>Tumor Sample Histology</th>\n",
       "      <th>Tumor Site</th>\n",
       "      <th>Tumor Stage</th>\n",
       "    </tr>\n",
       "  </thead>\n",
       "  <tbody>\n",
       "    <tr>\n",
       "      <th>0</th>\n",
       "      <td>skcm_dfci_2015</td>\n",
       "      <td>Pat02</td>\n",
       "      <td>Pat02</td>\n",
       "      <td>42</td>\n",
       "      <td>Melanoma</td>\n",
       "      <td>Cutaneous Melanoma</td>\n",
       "      <td>0.000000</td>\n",
       "      <td>0.023226</td>\n",
       "      <td>0.000000</td>\n",
       "      <td>0.000000</td>\n",
       "      <td>...</td>\n",
       "      <td>1</td>\n",
       "      <td>1.0</td>\n",
       "      <td>Female</td>\n",
       "      <td>Matched</td>\n",
       "      <td>2115.609593</td>\n",
       "      <td>7.566667</td>\n",
       "      <td>ipilimumab</td>\n",
       "      <td>Unknown or NA</td>\n",
       "      <td>4</td>\n",
       "      <td>NaN</td>\n",
       "    </tr>\n",
       "    <tr>\n",
       "      <th>1</th>\n",
       "      <td>skcm_dfci_2015</td>\n",
       "      <td>Pat03</td>\n",
       "      <td>Pat03</td>\n",
       "      <td>61</td>\n",
       "      <td>Melanoma</td>\n",
       "      <td>Cutaneous Melanoma</td>\n",
       "      <td>0.003156</td>\n",
       "      <td>0.000000</td>\n",
       "      <td>0.000000</td>\n",
       "      <td>0.011005</td>\n",
       "      <td>...</td>\n",
       "      <td>1</td>\n",
       "      <td>1.0</td>\n",
       "      <td>Female</td>\n",
       "      <td>Matched</td>\n",
       "      <td>722.244537</td>\n",
       "      <td>12.300000</td>\n",
       "      <td>ipilimumab</td>\n",
       "      <td>Acrolentigenous</td>\n",
       "      <td>4</td>\n",
       "      <td>NaN</td>\n",
       "    </tr>\n",
       "    <tr>\n",
       "      <th>2</th>\n",
       "      <td>skcm_dfci_2015</td>\n",
       "      <td>Pat04</td>\n",
       "      <td>Pat04</td>\n",
       "      <td>71</td>\n",
       "      <td>Melanoma</td>\n",
       "      <td>Cutaneous Melanoma</td>\n",
       "      <td>0.000000</td>\n",
       "      <td>0.005937</td>\n",
       "      <td>0.000000</td>\n",
       "      <td>0.000339</td>\n",
       "      <td>...</td>\n",
       "      <td>1</td>\n",
       "      <td>0.0</td>\n",
       "      <td>Male</td>\n",
       "      <td>Matched</td>\n",
       "      <td>-251.911190</td>\n",
       "      <td>10.933333</td>\n",
       "      <td>ipilimumab</td>\n",
       "      <td>Nodular</td>\n",
       "      <td>4</td>\n",
       "      <td>NaN</td>\n",
       "    </tr>\n",
       "    <tr>\n",
       "      <th>3</th>\n",
       "      <td>skcm_dfci_2015</td>\n",
       "      <td>Pat06</td>\n",
       "      <td>Pat06</td>\n",
       "      <td>33</td>\n",
       "      <td>Melanoma</td>\n",
       "      <td>Cutaneous Melanoma</td>\n",
       "      <td>0.000000</td>\n",
       "      <td>0.296795</td>\n",
       "      <td>0.002502</td>\n",
       "      <td>0.006298</td>\n",
       "      <td>...</td>\n",
       "      <td>1</td>\n",
       "      <td>0.0</td>\n",
       "      <td>Male</td>\n",
       "      <td>Matched</td>\n",
       "      <td>1059.079106</td>\n",
       "      <td>5.700000</td>\n",
       "      <td>ipilimumab</td>\n",
       "      <td>Superficial spreading</td>\n",
       "      <td>4</td>\n",
       "      <td>NaN</td>\n",
       "    </tr>\n",
       "    <tr>\n",
       "      <th>4</th>\n",
       "      <td>skcm_dfci_2015</td>\n",
       "      <td>Pat07</td>\n",
       "      <td>Pat07</td>\n",
       "      <td>36</td>\n",
       "      <td>Melanoma</td>\n",
       "      <td>Cutaneous Melanoma</td>\n",
       "      <td>NaN</td>\n",
       "      <td>NaN</td>\n",
       "      <td>NaN</td>\n",
       "      <td>NaN</td>\n",
       "      <td>...</td>\n",
       "      <td>1</td>\n",
       "      <td>0.0</td>\n",
       "      <td>Male</td>\n",
       "      <td>Matched</td>\n",
       "      <td>NaN</td>\n",
       "      <td>4.933333</td>\n",
       "      <td>ipilimumab</td>\n",
       "      <td>Unknown or NA</td>\n",
       "      <td>3</td>\n",
       "      <td>NaN</td>\n",
       "    </tr>\n",
       "  </tbody>\n",
       "</table>\n",
       "<p>5 rows × 63 columns</p>\n",
       "</div>"
      ],
      "text/plain": [
       "         Study ID Patient ID Sample ID  Age at Diagnosis Cancer Type  \\\n",
       "0  skcm_dfci_2015      Pat02     Pat02                42    Melanoma   \n",
       "1  skcm_dfci_2015      Pat03     Pat03                61    Melanoma   \n",
       "2  skcm_dfci_2015      Pat04     Pat04                71    Melanoma   \n",
       "3  skcm_dfci_2015      Pat06     Pat06                33    Melanoma   \n",
       "4  skcm_dfci_2015      Pat07     Pat07                36    Melanoma   \n",
       "\n",
       "  Cancer Type Detailed  CBSET B cells memory  CBSET B cells naive  \\\n",
       "0   Cutaneous Melanoma              0.000000             0.023226   \n",
       "1   Cutaneous Melanoma              0.003156             0.000000   \n",
       "2   Cutaneous Melanoma              0.000000             0.005937   \n",
       "3   Cutaneous Melanoma              0.000000             0.296795   \n",
       "4   Cutaneous Melanoma                   NaN                  NaN   \n",
       "\n",
       "   CBSET Dendritic cells activated  CBSET Dendritic cells resting  ...  \\\n",
       "0                         0.000000                       0.000000  ...   \n",
       "1                         0.000000                       0.011005  ...   \n",
       "2                         0.000000                       0.000339  ...   \n",
       "3                         0.002502                       0.006298  ...   \n",
       "4                              NaN                            NaN  ...   \n",
       "\n",
       "   Number of Samples Per Patient  Serum Lactate Dehydrogenase     Sex  \\\n",
       "0                              1                          1.0  Female   \n",
       "1                              1                          1.0  Female   \n",
       "2                              1                          0.0    Male   \n",
       "3                              1                          0.0    Male   \n",
       "4                              1                          0.0    Male   \n",
       "\n",
       "   Somatic Status  ESTIMATE Stromal Score  TMB (nonsynonymous)   Treatment  \\\n",
       "0         Matched             2115.609593             7.566667  ipilimumab   \n",
       "1         Matched              722.244537            12.300000  ipilimumab   \n",
       "2         Matched             -251.911190            10.933333  ipilimumab   \n",
       "3         Matched             1059.079106             5.700000  ipilimumab   \n",
       "4         Matched                     NaN             4.933333  ipilimumab   \n",
       "\n",
       "   Tumor Sample Histology  Tumor Site  Tumor Stage  \n",
       "0           Unknown or NA           4          NaN  \n",
       "1         Acrolentigenous           4          NaN  \n",
       "2                 Nodular           4          NaN  \n",
       "3   Superficial spreading           4          NaN  \n",
       "4           Unknown or NA           3          NaN  \n",
       "\n",
       "[5 rows x 63 columns]"
      ]
     },
     "execution_count": 11,
     "metadata": {},
     "output_type": "execute_result"
    }
   ],
   "source": [
    "mel_df.head()"
   ]
  },
  {
   "cell_type": "code",
   "execution_count": 12,
   "id": "indian-payday",
   "metadata": {},
   "outputs": [
    {
     "data": {
      "text/plain": [
       "Index(['Study ID', 'Patient ID', 'Sample ID', 'Age at Diagnosis',\n",
       "       'Cancer Type', 'Cancer Type Detailed', 'CBSET B cells memory',\n",
       "       'CBSET B cells naive', 'CBSET Dendritic cells activated',\n",
       "       'CBSET Dendritic cells resting', 'CBSET Eosinophils',\n",
       "       'CBSET Macrophages M0', 'CBSET Macrophages M1', 'CBSET Macrophages M2',\n",
       "       'CBSET Mast cells activated', 'CBSET Mast cells resting',\n",
       "       'CBSET Monocytes', 'CBSET Neutrophils', 'CBSET NK cells activated',\n",
       "       'CBSET NK cells resting', 'CBSET Plasma cells',\n",
       "       'CBSET T cells CD4 memory activated',\n",
       "       'CBSET T cells CD4 memory resting', 'CBSET T cells CD4 naive',\n",
       "       'CBSET T cells CD8', 'CBSET T cells follicular helper',\n",
       "       'CBSET T cells gamma delta', 'CBSET T cells regulatory (Tregs)',\n",
       "       'CIBERSORT Absolute', 'CIBERSORT Correlation', 'CIBERSORT P-value',\n",
       "       'CIBERSORT RMSE', 'Cohort', 'Cytolytic Score',\n",
       "       'Disease Free Survival (Months)', 'Disease Free status', 'Dosage',\n",
       "       'Durable Clinical Benefit', 'ESTIMATE Score', 'Fraction Genome Altered',\n",
       "       'HLA-A', 'HLA-B', 'HLA-C', 'ESTIMATE Immune Score', 'Mutation Count',\n",
       "       'Mutation Load', 'M Stage', 'Neo-antigen Load', 'Oncotree Code',\n",
       "       'Overall Survival (Months)', 'Overall Survival Status',\n",
       "       'Primary Tumor Site', 'Response Duration (Weeks)',\n",
       "       'Number of Samples Per Patient', 'Serum Lactate Dehydrogenase', 'Sex',\n",
       "       'Somatic Status', 'ESTIMATE Stromal Score', 'TMB (nonsynonymous)',\n",
       "       'Treatment', 'Tumor Sample Histology', 'Tumor Site', 'Tumor Stage'],\n",
       "      dtype='object')"
      ]
     },
     "execution_count": 12,
     "metadata": {},
     "output_type": "execute_result"
    }
   ],
   "source": [
    "mel_df.columns"
   ]
  },
  {
   "cell_type": "code",
   "execution_count": 48,
   "id": "strategic-lexington",
   "metadata": {},
   "outputs": [
    {
     "data": {
      "text/plain": [
       "<AxesSubplot:>"
      ]
     },
     "execution_count": 48,
     "metadata": {},
     "output_type": "execute_result"
    },
    {
     "data": {
      "image/png": "[encoded data removed]",
      "text/plain": [
       "<Figure size 432x288 with 1 Axes>"
      ]
     },
     "metadata": {
      "needs_background": "light"
     },
     "output_type": "display_data"
    }
   ],
   "source": [
    "mel_df['Disease Free Survival (Months)'].hist()"
   ]
  },
  {
   "cell_type": "code",
   "execution_count": 14,
   "id": "martial-freeze",
   "metadata": {},
   "outputs": [
    {
     "data": {
      "text/plain": [
       "PD    76\n",
       "PR    14\n",
       "SD    12\n",
       "X      5\n",
       "CR     3\n",
       "Name: Durable Clinical Benefit, dtype: int64"
      ]
     },
     "execution_count": 14,
     "metadata": {},
     "output_type": "execute_result"
    }
   ],
   "source": [
    "mel_df['Durable Clinical Benefit'].value_counts()"
   ]
  },
  {
   "cell_type": "markdown",
   "id": "twelve-launch",
   "metadata": {},
   "source": [
    "To stratify our cohort, “clinical benefit” was defined using a composite end point of complete response or partial response to ipilimumab by RECIST criteria (21) or stable disease by RECIST criteria with overall survival greater than 1 year (n = 27)."
   ]
  },
  {
   "cell_type": "code",
   "execution_count": 49,
   "id": "widespread-monkey",
   "metadata": {},
   "outputs": [],
   "source": [
    "def test_cb(row):\n",
    "    \n",
    "    # CB\n",
    "    if row['Durable Clinical Benefit'] in ['CR', 'PR']:\n",
    "        return 'CB'\n",
    "    \n",
    "    # CB part 2: SD os>=1year\n",
    "    if row['Durable Clinical Benefit'] == 'SD' and row['Overall Survival (Months)'] >= 12:\n",
    "        return 'CB'\n",
    "    \n",
    "    if row['Durable Clinical Benefit'] == 'SD' and row['Overall Survival (Months)'] > 1:\n",
    "        return 'NCB'\n",
    "    \n",
    "    if row['Disease Free Survival (Months)'] < 6 and row['Overall Survival (Months)'] > 24:\n",
    "        return 'LTS-NCB'\n",
    "    \n",
    "    # no benefit\n",
    "    return 'NCB'\n",
    "    #if x == 'SD' and \n",
    "\n",
    "mel_df['clinical_benefit'] = mel_df.apply(test_cb, axis=1)"
   ]
  },
  {
   "cell_type": "code",
   "execution_count": 50,
   "id": "terminal-brazilian",
   "metadata": {},
   "outputs": [
    {
     "data": {
      "text/plain": [
       "NCB        74\n",
       "CB         26\n",
       "LTS-NCB    10\n",
       "Name: clinical_benefit, dtype: int64"
      ]
     },
     "execution_count": 50,
     "metadata": {},
     "output_type": "execute_result"
    }
   ],
   "source": [
    "mel_df.clinical_benefit.value_counts()"
   ]
  },
  {
   "cell_type": "code",
   "execution_count": 67,
   "id": "rotary-bolivia",
   "metadata": {},
   "outputs": [
    {
     "data": {
      "text/html": [
       "<div>\n",
       "<style scoped>\n",
       "    .dataframe tbody tr th:only-of-type {\n",
       "        vertical-align: middle;\n",
       "    }\n",
       "\n",
       "    .dataframe tbody tr th {\n",
       "        vertical-align: top;\n",
       "    }\n",
       "\n",
       "    .dataframe thead th {\n",
       "        text-align: right;\n",
       "    }\n",
       "</style>\n",
       "<table border=\"1\" class=\"dataframe\">\n",
       "  <thead>\n",
       "    <tr style=\"text-align: right;\">\n",
       "      <th></th>\n",
       "      <th>Disease Free Survival (Months)</th>\n",
       "      <th>Mutation Load</th>\n",
       "      <th>Neo-antigen Load</th>\n",
       "      <th>Overall Survival (Months)</th>\n",
       "    </tr>\n",
       "  </thead>\n",
       "  <tbody>\n",
       "    <tr>\n",
       "      <th>0</th>\n",
       "      <td>17.933333</td>\n",
       "      <td>233</td>\n",
       "      <td>113</td>\n",
       "      <td>54.400000</td>\n",
       "    </tr>\n",
       "    <tr>\n",
       "      <th>1</th>\n",
       "      <td>2.533333</td>\n",
       "      <td>372</td>\n",
       "      <td>131</td>\n",
       "      <td>3.333333</td>\n",
       "    </tr>\n",
       "    <tr>\n",
       "      <th>2</th>\n",
       "      <td>21.533333</td>\n",
       "      <td>336</td>\n",
       "      <td>271</td>\n",
       "      <td>32.900000</td>\n",
       "    </tr>\n",
       "    <tr>\n",
       "      <th>3</th>\n",
       "      <td>2.566667</td>\n",
       "      <td>174</td>\n",
       "      <td>167</td>\n",
       "      <td>5.366667</td>\n",
       "    </tr>\n",
       "    <tr>\n",
       "      <th>4</th>\n",
       "      <td>24.033333</td>\n",
       "      <td>148</td>\n",
       "      <td>99</td>\n",
       "      <td>35.000000</td>\n",
       "    </tr>\n",
       "  </tbody>\n",
       "</table>\n",
       "</div>"
      ],
      "text/plain": [
       "   Disease Free Survival (Months)  Mutation Load  Neo-antigen Load  \\\n",
       "0                       17.933333            233               113   \n",
       "1                        2.533333            372               131   \n",
       "2                       21.533333            336               271   \n",
       "3                        2.566667            174               167   \n",
       "4                       24.033333            148                99   \n",
       "\n",
       "   Overall Survival (Months)  \n",
       "0                  54.400000  \n",
       "1                   3.333333  \n",
       "2                  32.900000  \n",
       "3                   5.366667  \n",
       "4                  35.000000  "
      ]
     },
     "execution_count": 67,
     "metadata": {},
     "output_type": "execute_result"
    }
   ],
   "source": [
    "mel_df[['Disease Free Survival (Months)', 'Mutation Load', 'Neo-antigen Load', 'Overall Survival (Months)']].head()"
   ]
  },
  {
   "cell_type": "code",
   "execution_count": 56,
   "id": "significant-spelling",
   "metadata": {},
   "outputs": [
    {
     "data": {
      "text/html": [
       "<div>\n",
       "<style scoped>\n",
       "    .dataframe tbody tr th:only-of-type {\n",
       "        vertical-align: middle;\n",
       "    }\n",
       "\n",
       "    .dataframe tbody tr th {\n",
       "        vertical-align: top;\n",
       "    }\n",
       "\n",
       "    .dataframe thead th {\n",
       "        text-align: right;\n",
       "    }\n",
       "</style>\n",
       "<table border=\"1\" class=\"dataframe\">\n",
       "  <thead>\n",
       "    <tr style=\"text-align: right;\">\n",
       "      <th></th>\n",
       "      <th>clinical_benefit</th>\n",
       "      <th>variable</th>\n",
       "      <th>value</th>\n",
       "    </tr>\n",
       "  </thead>\n",
       "  <tbody>\n",
       "    <tr>\n",
       "      <th>0</th>\n",
       "      <td>CB</td>\n",
       "      <td>Mutation Load</td>\n",
       "      <td>233</td>\n",
       "    </tr>\n",
       "    <tr>\n",
       "      <th>1</th>\n",
       "      <td>NCB</td>\n",
       "      <td>Mutation Load</td>\n",
       "      <td>372</td>\n",
       "    </tr>\n",
       "    <tr>\n",
       "      <th>2</th>\n",
       "      <td>CB</td>\n",
       "      <td>Mutation Load</td>\n",
       "      <td>336</td>\n",
       "    </tr>\n",
       "    <tr>\n",
       "      <th>3</th>\n",
       "      <td>NCB</td>\n",
       "      <td>Mutation Load</td>\n",
       "      <td>174</td>\n",
       "    </tr>\n",
       "    <tr>\n",
       "      <th>4</th>\n",
       "      <td>CB</td>\n",
       "      <td>Mutation Load</td>\n",
       "      <td>148</td>\n",
       "    </tr>\n",
       "  </tbody>\n",
       "</table>\n",
       "</div>"
      ],
      "text/plain": [
       "  clinical_benefit       variable  value\n",
       "0               CB  Mutation Load    233\n",
       "1              NCB  Mutation Load    372\n",
       "2               CB  Mutation Load    336\n",
       "3              NCB  Mutation Load    174\n",
       "4               CB  Mutation Load    148"
      ]
     },
     "execution_count": 56,
     "metadata": {},
     "output_type": "execute_result"
    }
   ],
   "source": [
    "mel_lf = mel_df[['clinical_benefit', 'Mutation Load', 'Neo-antigen Load']].melt(id_vars='clinical_benefit')\n",
    "mel_lf.head()"
   ]
  },
  {
   "cell_type": "code",
   "execution_count": 68,
   "id": "racial-juvenile",
   "metadata": {},
   "outputs": [
    {
     "data": {
      "text/plain": [
       "Text(0.5, 1.0, 'Mutation load and Neo-antigen load')"
      ]
     },
     "execution_count": 68,
     "metadata": {},
     "output_type": "execute_result"
    },
    {
     "data": {
      "image/png": "[encoded data removed]",
      "text/plain": [
       "<Figure size 432x288 with 1 Axes>"
      ]
     },
     "metadata": {
      "needs_background": "light"
     },
     "output_type": "display_data"
    }
   ],
   "source": [
    "\n",
    "ax = sns.boxplot(data=mel_lf, x='variable', y='value', hue='clinical_benefit', hue_order=['NCB', 'LTS-NCB', 'CB'])\n",
    "ax.set_ylim(0, 1600)\n",
    "ax.set_yticks([0, 500, 1000, 1500])\n",
    "ax.set_title(\"Mutation load and Neo-antigen load\")"
   ]
  },
  {
   "cell_type": "code",
   "execution_count": 65,
   "id": "preceding-sweet",
   "metadata": {},
   "outputs": [
    {
     "data": {
      "text/html": [
       "<div>\n",
       "<style scoped>\n",
       "    .dataframe tbody tr th:only-of-type {\n",
       "        vertical-align: middle;\n",
       "    }\n",
       "\n",
       "    .dataframe tbody tr th {\n",
       "        vertical-align: top;\n",
       "    }\n",
       "\n",
       "    .dataframe thead th {\n",
       "        text-align: right;\n",
       "    }\n",
       "</style>\n",
       "<table border=\"1\" class=\"dataframe\">\n",
       "  <thead>\n",
       "    <tr style=\"text-align: right;\">\n",
       "      <th></th>\n",
       "      <th></th>\n",
       "      <th>value</th>\n",
       "    </tr>\n",
       "    <tr>\n",
       "      <th>clinical_benefit</th>\n",
       "      <th>variable</th>\n",
       "      <th></th>\n",
       "    </tr>\n",
       "  </thead>\n",
       "  <tbody>\n",
       "    <tr>\n",
       "      <th rowspan=\"2\" valign=\"top\">CB</th>\n",
       "      <th>Mutation Load</th>\n",
       "      <td>737.153846</td>\n",
       "    </tr>\n",
       "    <tr>\n",
       "      <th>Neo-antigen Load</th>\n",
       "      <td>467.692308</td>\n",
       "    </tr>\n",
       "    <tr>\n",
       "      <th rowspan=\"2\" valign=\"top\">LTS-NCB</th>\n",
       "      <th>Mutation Load</th>\n",
       "      <td>571.500000</td>\n",
       "    </tr>\n",
       "    <tr>\n",
       "      <th>Neo-antigen Load</th>\n",
       "      <td>383.000000</td>\n",
       "    </tr>\n",
       "    <tr>\n",
       "      <th rowspan=\"2\" valign=\"top\">NCB</th>\n",
       "      <th>Mutation Load</th>\n",
       "      <td>396.810811</td>\n",
       "    </tr>\n",
       "    <tr>\n",
       "      <th>Neo-antigen Load</th>\n",
       "      <td>315.986486</td>\n",
       "    </tr>\n",
       "  </tbody>\n",
       "</table>\n",
       "</div>"
      ],
      "text/plain": [
       "                                        value\n",
       "clinical_benefit variable                    \n",
       "CB               Mutation Load     737.153846\n",
       "                 Neo-antigen Load  467.692308\n",
       "LTS-NCB          Mutation Load     571.500000\n",
       "                 Neo-antigen Load  383.000000\n",
       "NCB              Mutation Load     396.810811\n",
       "                 Neo-antigen Load  315.986486"
      ]
     },
     "execution_count": 65,
     "metadata": {},
     "output_type": "execute_result"
    }
   ],
   "source": [
    "mel_lf.groupby(['clinical_benefit', 'variable']).mean()"
   ]
  },
  {
   "cell_type": "code",
   "execution_count": null,
   "id": "certified-actor",
   "metadata": {},
   "outputs": [],
   "source": []
  }
 ],
 "metadata": {
  "kernelspec": {
   "display_name": "Python 3",
   "language": "python",
   "name": "python3"
  },
  "language_info": {
   "codemirror_mode": {
    "name": "ipython",
    "version": 3
   },
   "file_extension": ".py",
   "mimetype": "text/x-python",
   "name": "python",
   "nbconvert_exporter": "python",
   "pygments_lexer": "ipython3",
   "version": "3.8.2"
  }
 },
 "nbformat": 4,
 "nbformat_minor": 5
}
